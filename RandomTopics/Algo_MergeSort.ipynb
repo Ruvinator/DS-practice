{
 "cells": [
  {
   "cell_type": "markdown",
   "metadata": {},
   "source": [
    "This is a Python implementation of the **Merge Sort** algorithm which efficiently sorts an array of numbers."
   ]
  },
  {
   "cell_type": "code",
   "execution_count": 51,
   "metadata": {},
   "outputs": [],
   "source": [
    "def merge_sort(in_arr, level = 0):\n",
    "    arr1 = in_arr[: len(in_arr) // 2]\n",
    "    arr2 = in_arr[len(in_arr) // 2 :]\n",
    "    \n",
    "    # Have the split arrays, need to check if in base case\n",
    "    if len(arr1) > 1:\n",
    "        arr1 = merge_sort(arr1, level + 1)\n",
    "    if len(arr2) > 1:\n",
    "        arr2 = merge_sort(arr2, level + 1)\n",
    "    \n",
    "    i = j = 0\n",
    "    \n",
    "    sorted_arr = []\n",
    "    \n",
    "    # Sorting by iterating through both arrays and comparing values\n",
    "    while i < len(arr1) or j < len(arr2):\n",
    "        if i == len(arr1):\n",
    "            sorted_arr.append(arr2[j])\n",
    "            j += 1\n",
    "        elif j == len(arr2):\n",
    "            sorted_arr.append(arr1[i])\n",
    "            i += 1\n",
    "        elif arr1[i] < arr2[j]:\n",
    "            sorted_arr.append(arr1[i])\n",
    "            i += 1\n",
    "        else:\n",
    "            sorted_arr.append(arr2[j])\n",
    "            j += 1\n",
    "    \n",
    "    print(\"Level %d\" % level, arr1, \"+\", arr2, \"=\", sorted_arr)\n",
    "    return sorted_arr"
   ]
  },
  {
   "cell_type": "markdown",
   "metadata": {},
   "source": [
    "Using the implemented merge_sort function, a sample array is sorted as shown below:"
   ]
  },
  {
   "cell_type": "code",
   "execution_count": 52,
   "metadata": {},
   "outputs": [
    {
     "name": "stdout",
     "output_type": "stream",
     "text": [
      "Level 3 [2] + [3] = [2, 3]\n",
      "Level 2 [4] + [2, 3] = [2, 3, 4]\n",
      "Level 3 [1] + [6] = [1, 6]\n",
      "Level 3 [3] + [4] = [3, 4]\n",
      "Level 2 [1, 6] + [3, 4] = [1, 3, 4, 6]\n",
      "Level 1 [2, 3, 4] + [1, 3, 4, 6] = [1, 2, 3, 3, 4, 4, 6]\n",
      "Level 3 [2] + [2] = [2, 2]\n",
      "Level 3 [1] + [10] = [1, 10]\n",
      "Level 2 [2, 2] + [1, 10] = [1, 2, 2, 10]\n",
      "Level 3 [12] + [2] = [2, 12]\n",
      "Level 3 [5] + [7] = [5, 7]\n",
      "Level 2 [2, 12] + [5, 7] = [2, 5, 7, 12]\n",
      "Level 1 [1, 2, 2, 10] + [2, 5, 7, 12] = [1, 2, 2, 2, 5, 7, 10, 12]\n",
      "Level 0 [1, 2, 3, 3, 4, 4, 6] + [1, 2, 2, 2, 5, 7, 10, 12] = [1, 1, 2, 2, 2, 2, 3, 3, 4, 4, 5, 6, 7, 10, 12]\n"
     ]
    }
   ],
   "source": [
    "unsorted_array = [4,2,3,1,6,3,4,2,2,1,10,12,2,5,7]\n",
    "sorted_array = merge_sort(unsorted_array)"
   ]
  }
 ],
 "metadata": {
  "kernelspec": {
   "display_name": "Python 3",
   "language": "python",
   "name": "python3"
  },
  "language_info": {
   "codemirror_mode": {
    "name": "ipython",
    "version": 3
   },
   "file_extension": ".py",
   "mimetype": "text/x-python",
   "name": "python",
   "nbconvert_exporter": "python",
   "pygments_lexer": "ipython3",
   "version": "3.5.4"
  }
 },
 "nbformat": 4,
 "nbformat_minor": 2
}
