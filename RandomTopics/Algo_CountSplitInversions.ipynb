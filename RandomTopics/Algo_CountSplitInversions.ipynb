{
 "cells": [
  {
   "cell_type": "markdown",
   "metadata": {},
   "source": [
    "This is a Python implementation of a **Divide and Conquer** algorithm based on **Merge Sort** for counting the number of inversions in a given array.\n",
    "\n",
    "The number of inversions is defined as the number of pairs *(i, j)* of array indices with *i < j* and *A[i] > A[j]*."
   ]
  },
  {
   "cell_type": "code",
   "execution_count": 4,
   "metadata": {},
   "outputs": [],
   "source": [
    "def sort_and_count(in_arr):\n",
    "    arr_mid = len(in_arr) // 2\n",
    "\n",
    "    arr_l = in_arr[:arr_mid]\n",
    "    arr_r = in_arr[arr_mid:]\n",
    "    \n",
    "    inv_count = inv_l = inv_r = 0\n",
    "    \n",
    "    if len(arr_l) > 1:\n",
    "        arr_l, inv_l = sort_and_count(arr_l)\n",
    "    if len(arr_r) > 1:\n",
    "        arr_r, inv_r = sort_and_count(arr_r)\n",
    "    \n",
    "    inv_count += inv_l + inv_r\n",
    "    \n",
    "    i = j = 0\n",
    "    \n",
    "    sorted_arr = []\n",
    "    \n",
    "    while i < len(arr_l) or j < len(arr_r):\n",
    "        if i == len(arr_l):\n",
    "            sorted_arr.append(arr_r[j])\n",
    "            j += 1\n",
    "        elif j == len(arr_r):\n",
    "            sorted_arr.append(arr_l[i])\n",
    "            i += 1\n",
    "        elif arr_l[i] < arr_r[j]:\n",
    "            sorted_arr.append(arr_l[i])\n",
    "            i += 1\n",
    "        else:\n",
    "            sorted_arr.append(arr_r[j])\n",
    "            j += 1\n",
    "            inv_count += len(arr_l) - i\n",
    "\n",
    "    return sorted_arr, inv_count\n",
    "    "
   ]
  },
  {
   "cell_type": "markdown",
   "metadata": {},
   "source": [
    "Using the implemented sort_and_count function, the number of inversions in a sample array are determined below:"
   ]
  },
  {
   "cell_type": "code",
   "execution_count": 7,
   "metadata": {},
   "outputs": [
    {
     "name": "stdout",
     "output_type": "stream",
     "text": [
      "The input array required 15 inversions.\n"
     ]
    }
   ],
   "source": [
    "arr = [6,5,4,3,2,1]\n",
    "sorted_arr, inv_count = sort_and_count(arr)\n",
    "\n",
    "print(\"The input array required %d inversions.\" % inv_count)"
   ]
  }
 ],
 "metadata": {
  "kernelspec": {
   "display_name": "Python 3",
   "language": "python",
   "name": "python3"
  },
  "language_info": {
   "codemirror_mode": {
    "name": "ipython",
    "version": 3
   },
   "file_extension": ".py",
   "mimetype": "text/x-python",
   "name": "python",
   "nbconvert_exporter": "python",
   "pygments_lexer": "ipython3",
   "version": "3.5.4"
  }
 },
 "nbformat": 4,
 "nbformat_minor": 2
}
