{
 "cells": [
  {
   "cell_type": "markdown",
   "metadata": {},
   "source": [
    "This is an implementation of the QuickSort algorithm which randomly selects a pivot point for an array and sorts it recursively."
   ]
  },
  {
   "cell_type": "code",
   "execution_count": 5,
   "metadata": {},
   "outputs": [],
   "source": [
    "import numpy as np\n",
    "import random"
   ]
  },
  {
   "cell_type": "markdown",
   "metadata": {},
   "source": [
    "Helper function for selecting a random pivot point:"
   ]
  },
  {
   "cell_type": "code",
   "execution_count": 14,
   "metadata": {},
   "outputs": [],
   "source": [
    "def SelectPivot(arrayLen): \n",
    "    return int(random.random() * arrayLen)"
   ]
  },
  {
   "cell_type": "markdown",
   "metadata": {},
   "source": [
    "Function implementing the QuickSort algorithm:"
   ]
  },
  {
   "cell_type": "code",
   "execution_count": 131,
   "metadata": {},
   "outputs": [],
   "source": [
    "def QuickSort(arrayIn):\n",
    "    \n",
    "    if len(arrayIn) >= 2: \n",
    "    \n",
    "        p = SelectPivot(len(arrayIn))  # Select pivot\n",
    "\n",
    "        arrayIn[0], arrayIn[p] = arrayIn[p], arrayIn[0]  # Make sure pivot is at front\n",
    "\n",
    "        # i - keeps track of boundary between numbers larger and smaller than the pivot\n",
    "        # j - keeps track of boundary between scanned and unscanned elements\n",
    "        i = j = 1\n",
    "\n",
    "        while j < len(arrayIn):\n",
    "\n",
    "            # If scanned number smaller than pivot, swap with value at boundary i and increment i\n",
    "            if arrayIn[j] < arrayIn[0]:\n",
    "                arrayIn[j], arrayIn[i] = arrayIn[i], arrayIn[j]\n",
    "                i += 1\n",
    "\n",
    "            j += 1\n",
    "\n",
    "        arrayIn[0], arrayIn[i-1] = arrayIn[i-1], arrayIn[0]  # Place pivot in rightful position\n",
    "\n",
    "        # This way takes up more memory; should in practice pass by reference rather than returning/copying\n",
    "        arrayIn[0 : i-1] = QuickSort(arrayIn[0 : i-1])\n",
    "        arrayIn[i :]     = QuickSort(arrayIn[i :])\n",
    "    \n",
    "    return arrayIn"
   ]
  },
  {
   "cell_type": "code",
   "execution_count": 133,
   "metadata": {},
   "outputs": [
    {
     "name": "stdout",
     "output_type": "stream",
     "text": [
      "Sorted array:  [0, 1, 2, 3, 4, 5, 6, 7, 8, 9, 11, 12, 14, 15, 16, 17, 19]\n"
     ]
    }
   ],
   "source": [
    "unsorted_arr = [1, 5, 2, 8, 6, 7, 9, 3, 4, 15, 11, 16, 17, 12, 14, 19, 0]\n",
    "sorted_arr = QuickSort(unsorted_arr)\n",
    "\n",
    "print(\"Sorted array: \", sorted_arr)"
   ]
  },
  {
   "cell_type": "code",
   "execution_count": null,
   "metadata": {},
   "outputs": [],
   "source": []
  }
 ],
 "metadata": {
  "kernelspec": {
   "display_name": "Python 3",
   "language": "python",
   "name": "python3"
  },
  "language_info": {
   "codemirror_mode": {
    "name": "ipython",
    "version": 3
   },
   "file_extension": ".py",
   "mimetype": "text/x-python",
   "name": "python",
   "nbconvert_exporter": "python",
   "pygments_lexer": "ipython3",
   "version": "3.5.4"
  }
 },
 "nbformat": 4,
 "nbformat_minor": 2
}
